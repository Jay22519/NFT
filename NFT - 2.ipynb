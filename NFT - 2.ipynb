{
 "cells": [
  {
   "cell_type": "code",
   "execution_count": 1,
   "metadata": {},
   "outputs": [],
   "source": [
    "import numpy as np \n",
    "import pandas as pd "
   ]
  },
  {
   "cell_type": "code",
   "execution_count": 2,
   "metadata": {},
   "outputs": [],
   "source": [
    "import matplotlib.pyplot as plt \n",
    "%matplotlib inline "
   ]
  },
  {
   "cell_type": "code",
   "execution_count": 3,
   "metadata": {},
   "outputs": [],
   "source": [
    "import math \n",
    "from random import random "
   ]
  },
  {
   "cell_type": "code",
   "execution_count": 385,
   "metadata": {},
   "outputs": [],
   "source": [
    "from PIL import Image \n",
    "import pandas as pd "
   ]
  },
  {
   "cell_type": "code",
   "execution_count": 386,
   "metadata": {},
   "outputs": [],
   "source": [
    "import copy "
   ]
  },
  {
   "cell_type": "code",
   "execution_count": 68,
   "metadata": {},
   "outputs": [],
   "source": [
    "def add(input_shape,prev_shape,it) :\n",
    "    \n",
    "    weight = [[random() for i in range(prev_shape)] for j in range(input_shape)]\n",
    "    neuron = [random() for i in range(input_shape)]\n",
    "    bias = random()\n",
    "\n",
    "    return weight,neuron,bias"
   ]
  },
  {
   "cell_type": "code",
   "execution_count": 49,
   "metadata": {},
   "outputs": [],
   "source": [
    "def active_sum(input,weight,bias) :\n",
    "    activation = bias \n",
    "    for i in range(len(weight)) :\n",
    "        activation += (weight[i]*input[i]) \n",
    "        \n",
    "    return activation"
   ]
  },
  {
   "cell_type": "code",
   "execution_count": 50,
   "metadata": {},
   "outputs": [],
   "source": [
    "def sigmoid(input) :\n",
    "    return 1.0/(1.0 + np.exp(-input))"
   ]
  },
  {
   "cell_type": "code",
   "execution_count": 105,
   "metadata": {},
   "outputs": [],
   "source": [
    "def forward_prop(network,input,bias,it) :\n",
    "    #print(it)\n",
    "    my_input = input\n",
    "    my_bias = bias \n",
    "    for i in range(it-1) :  #Each hidden layer\n",
    "        for j in range(len(network[i][1])): #For each neuron \n",
    "            sum_active = active_sum(network[i][0][j],my_input,my_bias)\n",
    "            activation = sigmoid(sum_active)\n",
    "            #print(activation)           \n",
    "            network[i][1][j] = activation\n",
    "            \n",
    "        my_input = network[i][1]\n",
    "        my_bias = network[i][2]\n",
    "        \n",
    "    for j in range(len(network[it-1][1])): #For each neuron \n",
    "            sum_active = active_sum(network[it-1][0][j],my_input,my_bias)\n",
    "            activation = sigmoid(sum_active)       \n",
    "            network[it-1][1][j] = activation\n",
    "                       \n",
    "    return network"
   ]
  },
  {
   "cell_type": "code",
   "execution_count": 40,
   "metadata": {},
   "outputs": [],
   "source": [
    "def sig_derivative(input) :\n",
    "    \n",
    "    return 1.0/(1.0 + math.exp(-input))"
   ]
  },
  {
   "cell_type": "code",
   "execution_count": 177,
   "metadata": {},
   "outputs": [],
   "source": [
    "def back_prop(network,input,output,learning_rate,bias,it) :\n",
    "    error = [[1 for i in range(1000)] for j in range(it)]\n",
    "    #For last layer \n",
    "    it-=1 \n",
    "    sum_det = 0 #For bias \n",
    "    for i in range(len(network[it][1])) : #For each neuron \n",
    "        \n",
    "        error[it][i] = output[i] - network[it][1][i]  #Error of ith output neuron\n",
    "        #print(\"error in \",it,\" layer and \",i,\"th neuron is \",error[it][i])            #Printing !!!!!!!!!!\n",
    "        delta = error[it][i]*sig_derivative(network[it][1][i]) \n",
    "        sum_det += delta\n",
    "        error[it][i] = delta \n",
    "        \n",
    "        #Now adjusting all weights to this neuron \n",
    "        for j in range(len(network[it][0][i])) :\n",
    "            network[it][0][i][j] += (learning_rate*delta*network[it-1][1][j])\n",
    "            \n",
    "            \n",
    "    network[it-1][2] *= (1 + learning_rate*sum_det)\n",
    "    \n",
    "    it-=1 \n",
    "    \n",
    "    \n",
    "    ## Now doing for all layers but first \n",
    "    while(it != 0) :\n",
    "        sum_det = 0\n",
    "        for i in range(len(network[it][1])) : #For each neuron \n",
    "            \n",
    "            err = 0 #Calculating err for each neuron which is summation(error[it+1][j]*w[j][i])\n",
    "            \n",
    "            for j in range(len(network[it+1][1])) :\n",
    "                err += (error[it+1][j]*network[it+1][0][j][i])\n",
    "                \n",
    "            \n",
    "            error[it][i] = err \n",
    "            delta = error[it][i]*sig_derivative(network[it][1][i]) \n",
    "            error[it][i] = delta\n",
    "            sum_det += delta\n",
    "            for j in range(len(network[it][0][i])) :\n",
    "                network[it][0][i][j] += (learning_rate*delta*network[it-1][1][j])\n",
    "            \n",
    "            \n",
    "        network[it-1][2] *= (1 + learning_rate*sum_det)\n",
    "\n",
    "        it-=1 \n",
    "        \n",
    "        \n",
    "    #Now for last layer . Here the only change will be that instead of network we'll take input and input bias \n",
    "    \n",
    "    sum_det = 0\n",
    "    for i in range(len(network[it][1])) : #For each neuron \n",
    "\n",
    "        err = 0 #Calculating err for each neuron which is summation(error[it+1][j]*w[j][i])\n",
    "\n",
    "        for j in range(len(network[it+1][1])) :\n",
    "            err += (error[it+1][j]*network[it+1][0][j][i])\n",
    "\n",
    "\n",
    "        error[it][i] = err \n",
    "        delta = error[it][i]*sig_derivative(network[it][1][i]) \n",
    "        error[it][i] = delta\n",
    "        sum_det += delta\n",
    "        for j in range(len(network[it][0][i])) :\n",
    "            network[it][0][i][j] += (learning_rate*delta*input[j])\n",
    "\n",
    "\n",
    "    bias*= (1 + learning_rate*sum_det)\n",
    "    \n",
    "            \n",
    "            \n",
    "    \n",
    "    return network\n",
    "        \n",
    "    "
   ]
  },
  {
   "cell_type": "code",
   "execution_count": 173,
   "metadata": {},
   "outputs": [],
   "source": [
    "def train(network,input,output,bias,learning_rate,it,epoch) :\n",
    "    leng = len(network)\n",
    "    for i in range(epoch) :\n",
    "        network = forward_prop(network,input,bias,it) \n",
    "        #print(\"After forward \",network[it-1][1])\n",
    "        network = back_prop(network,input,output,learning_rate,bias,it) \n",
    "        #print(\"After backward \",network[it-1][1])\n",
    "        #print(\"\\n\\n\")\n",
    "    \n",
    "    return network"
   ]
  },
  {
   "cell_type": "code",
   "execution_count": 398,
   "metadata": {},
   "outputs": [],
   "source": [
    "def predict(input,network,bias,it) :\n",
    "    my_input = input\n",
    "    my_bias = bias \n",
    "    for i in range(it-1) :  #Each hidden layer\n",
    "        for j in range(len(network[i][1])): #For each neuron \n",
    "            sum_active = active_sum(network[i][0][j],my_input,my_bias)\n",
    "            activation = sigmoid(sum_active)\n",
    "            #print(activation)           \n",
    "            network[i][1][j] = activation\n",
    "            \n",
    "        my_input = network[i][1]\n",
    "        my_bias = network[i][2]\n",
    "        \n",
    "    for j in range(len(network[it-1][1])): #For each neuron \n",
    "            sum_active = active_sum(network[it-1][0][j],my_input,my_bias)\n",
    "            activation = sigmoid(sum_active)         \n",
    "            network[it-1][1][j] = activation\n",
    "            \n",
    "    return network[it-1][1]"
   ]
  },
  {
   "cell_type": "code",
   "execution_count": 399,
   "metadata": {},
   "outputs": [],
   "source": [
    "network = [[1 for i in range(3)] for j in range(100000)]\n",
    "it =  0 \n",
    "\n",
    "network[it][0],network[it][1],network[it][2] = add(25,100,it)\n",
    "it+=1 \n",
    "network[it][0],network[it][1],network[it][2] = add(2,25,it)\n",
    "it+=1"
   ]
  },
  {
   "cell_type": "code",
   "execution_count": 400,
   "metadata": {},
   "outputs": [],
   "source": [
    "epoch = 50\n",
    "learning_rate = 0.1\n",
    "bias = 1"
   ]
  },
  {
   "cell_type": "code",
   "execution_count": null,
   "metadata": {},
   "outputs": [],
   "source": []
  },
  {
   "cell_type": "markdown",
   "metadata": {},
   "source": [
    "### Taking Input  "
   ]
  },
  {
   "cell_type": "code",
   "execution_count": 401,
   "metadata": {},
   "outputs": [],
   "source": [
    "j = []\n",
    "for i in range(5) :\n",
    "    file = \"J\" + str(i+1) + \".png\" \n",
    "    \n",
    "    img = Image.open(file).resize((10,10)).convert(\"L\")\n",
    "    pix = list(img.getdata())\n",
    "    for i in range(len(pix)) :\n",
    "        if(pix[i] < 255) :\n",
    "            pix[i]= 1 \n",
    "        else :\n",
    "            pix[i] = 0 \n",
    "    j.append(pix)"
   ]
  },
  {
   "cell_type": "code",
   "execution_count": 402,
   "metadata": {},
   "outputs": [
    {
     "data": {
      "text/plain": [
       "100"
      ]
     },
     "execution_count": 402,
     "metadata": {},
     "output_type": "execute_result"
    }
   ],
   "source": [
    "len(g[0])"
   ]
  },
  {
   "cell_type": "code",
   "execution_count": 403,
   "metadata": {},
   "outputs": [],
   "source": [
    "p = []\n",
    "for i in range(5) :\n",
    "    file = \"P\" + str(i+1) + \".png\" \n",
    "    \n",
    "    img = Image.open(file).resize((10,10)).convert(\"L\")\n",
    "    pix = list(img.getdata())\n",
    "    for i in range(len(pix)) :\n",
    "        if(pix[i] < 255) :\n",
    "            pix[i]= 1 \n",
    "        else :\n",
    "            pix[i] = 0 \n",
    "    p.append(pix)"
   ]
  },
  {
   "cell_type": "code",
   "execution_count": 404,
   "metadata": {},
   "outputs": [],
   "source": [
    "g = []\n",
    "for i in range(5) :\n",
    "    file = \"G\" + str(i+1) + \".png\" \n",
    "    \n",
    "    img = Image.open(file).resize((10,10)).convert(\"L\")\n",
    "    pix = list(img.getdata())\n",
    "    for i in range(len(pix)) :\n",
    "        if(pix[i] < 255) :\n",
    "            pix[i]= 1 \n",
    "        else :\n",
    "            pix[i] = 0 \n",
    "    g.append(pix)"
   ]
  },
  {
   "cell_type": "code",
   "execution_count": 417,
   "metadata": {},
   "outputs": [],
   "source": [
    "for i in range(5) :\n",
    "    input = j[i] \n",
    "    mean = sum(input) / len(input) \n",
    "    variance = sum([((x - mean) ** 2) for x in input]) / len(input)\n",
    "    for k in range(len(input)) :\n",
    "        input[k] = (input[k] - mean)/variance\n",
    "    output = [0,0]\n",
    "    network = train(network,input,output,bias,learning_rate,it,epoch)\n",
    "    input = p[i] \n",
    "    mean = sum(input) / len(input) \n",
    "    variance = sum([((x - mean) ** 2) for x in input]) / len(input)\n",
    "    for k in range(len(input)) :\n",
    "        input[k] = (input[k] - mean)/variance\n",
    "    output = [0,1]\n",
    "    network = train(network,input,output,bias,learning_rate,it,epoch)\n",
    "    input = g[i] \n",
    "    mean = sum(input) / len(input) \n",
    "    variance = sum([((x - mean) ** 2) for x in input]) / len(input)\n",
    "    for k in range(len(input)) :\n",
    "        input[k] = (input[k] - mean)/variance\n",
    "    output = [1,0]\n",
    "    network = train(network,input,output,bias,learning_rate,it,epoch)"
   ]
  },
  {
   "cell_type": "code",
   "execution_count": 418,
   "metadata": {},
   "outputs": [
    {
     "data": {
      "text/plain": [
       "[0.9685051215625522, 0.043299592942920725]"
      ]
     },
     "execution_count": 418,
     "metadata": {},
     "output_type": "execute_result"
    }
   ],
   "source": [
    "network[it-1][1]"
   ]
  },
  {
   "cell_type": "code",
   "execution_count": 415,
   "metadata": {},
   "outputs": [
    {
     "name": "stdout",
     "output_type": "stream",
     "text": [
      "[0.9455081571017807, 0.07291035005039982] [0.5, 0.5]\n"
     ]
    }
   ],
   "source": [
    "tmp = copy.deepcopy(network)  \n",
    "check = predict(g[0],tmp,bias,it)\n",
    "print(network[it-1][1],tmp[it-1][1])"
   ]
  },
  {
   "cell_type": "code",
   "execution_count": 380,
   "metadata": {},
   "outputs": [
    {
     "data": {
      "text/plain": [
       "([1, 1], [0.5000000295859767, 0.5000000295859767])"
      ]
     },
     "execution_count": 380,
     "metadata": {},
     "output_type": "execute_result"
    }
   ],
   "source": [
    "ans , check "
   ]
  },
  {
   "cell_type": "code",
   "execution_count": null,
   "metadata": {},
   "outputs": [],
   "source": []
  },
  {
   "cell_type": "code",
   "execution_count": 416,
   "metadata": {},
   "outputs": [],
   "source": [
    "file = \"JTest1.png\" \n",
    "    \n",
    "img = Image.open(file).resize((10,10)).convert(\"L\")\n",
    "pix = list(img.getdata())\n",
    "for i in range(len(pix)) :\n",
    "    if(pix[i] < 255) :\n",
    "        pix[i]= 1 \n",
    "    else :\n",
    "        pix[i] = 0 \n"
   ]
  },
  {
   "cell_type": "code",
   "execution_count": 419,
   "metadata": {},
   "outputs": [
    {
     "name": "stdout",
     "output_type": "stream",
     "text": [
      "[0.9685051215625522, 0.043299592942920725] [0.5, 0.5]\n"
     ]
    }
   ],
   "source": [
    "tmp = copy.deepcopy(network)  \n",
    "check = predict(pix,tmp,bias,it)\n",
    "print(network[it-1][1],tmp[it-1][1])"
   ]
  },
  {
   "cell_type": "code",
   "execution_count": 420,
   "metadata": {},
   "outputs": [],
   "source": [
    "file = \"PTest1.png\" \n",
    "    \n",
    "img = Image.open(file).resize((10,10)).convert(\"L\")\n",
    "pix = list(img.getdata())\n",
    "for i in range(len(pix)) :\n",
    "    if(pix[i] < 255) :\n",
    "        pix[i]= 1 \n",
    "    else :\n",
    "        pix[i] = 0 \n"
   ]
  },
  {
   "cell_type": "code",
   "execution_count": 422,
   "metadata": {},
   "outputs": [
    {
     "name": "stdout",
     "output_type": "stream",
     "text": [
      "[0.9685051215625522, 0.043299592942920725] [0.49994711895613053, 0.5000585423776198]\n"
     ]
    }
   ],
   "source": [
    "tmp = copy.deepcopy(network)  \n",
    "check = predict(pix,tmp,bias,it)\n",
    "print(network[it-1][1],tmp[it-1][1])"
   ]
  },
  {
   "cell_type": "code",
   "execution_count": 423,
   "metadata": {},
   "outputs": [],
   "source": [
    "file = \"GTest1.png\" \n",
    "    \n",
    "img = Image.open(file).resize((10,10)).convert(\"L\")\n",
    "pix = list(img.getdata())\n",
    "for i in range(len(pix)) :\n",
    "    if(pix[i] < 255) :\n",
    "        pix[i]= 1 \n",
    "    else :\n",
    "        pix[i] = 0 \n"
   ]
  },
  {
   "cell_type": "code",
   "execution_count": 424,
   "metadata": {},
   "outputs": [
    {
     "name": "stdout",
     "output_type": "stream",
     "text": [
      "[0.9685051215625522, 0.043299592942920725] [0.9685746797730663, 0.043208060395875665]\n"
     ]
    }
   ],
   "source": [
    "tmp = copy.deepcopy(network)  \n",
    "check = predict(pix,tmp,bias,it)\n",
    "print(network[it-1][1],tmp[it-1][1])"
   ]
  },
  {
   "cell_type": "code",
   "execution_count": null,
   "metadata": {},
   "outputs": [],
   "source": []
  },
  {
   "cell_type": "code",
   "execution_count": null,
   "metadata": {},
   "outputs": [],
   "source": []
  },
  {
   "cell_type": "code",
   "execution_count": null,
   "metadata": {},
   "outputs": [],
   "source": []
  },
  {
   "cell_type": "code",
   "execution_count": null,
   "metadata": {},
   "outputs": [],
   "source": []
  },
  {
   "cell_type": "code",
   "execution_count": null,
   "metadata": {},
   "outputs": [],
   "source": []
  },
  {
   "cell_type": "code",
   "execution_count": 162,
   "metadata": {},
   "outputs": [
    {
     "name": "stdout",
     "output_type": "stream",
     "text": [
      "Details of  0 th layer\n",
      "\n",
      "Value of  0 th neuron is  0.441621647153098  and its weights are \n",
      "Weight 0 0  is  0.5737697817723554\n",
      "Weight 0 1  is  0.7426116100452775\n",
      "Weight 0 2  is  -0.24928573202018636\n",
      "Value of  1 th neuron is  0.9483062022960393  and its weights are \n",
      "Weight 1 0  is  -0.1133294566285673\n",
      "Weight 1 1  is  0.7573100169405427\n",
      "Weight 1 2  is  1.15956363751177\n",
      "Value of  2 th neuron is  0.28667990896202694  and its weights are \n",
      "Weight 2 0  is  1.2439258484315414\n",
      "Weight 2 1  is  0.9647291665875594\n",
      "Weight 2 2  is  -0.030450125882528874\n",
      "\n",
      "\n",
      "Details of  1 th layer\n",
      "\n",
      "Value of  0 th neuron is  0.7117018788577361  and its weights are \n",
      "Weight 0 0  is  -0.03493392395137557\n",
      "Weight 0 1  is  0.7209435450500367\n",
      "Weight 0 2  is  0.5624031404441727\n",
      "Value of  1 th neuron is  0.4180368242123641  and its weights are \n",
      "Weight 1 0  is  0.39693879637012036\n",
      "Weight 1 1  is  -0.7390801273293456\n",
      "Weight 1 2  is  0.42051487906735613\n",
      "Value of  2 th neuron is  0.6083614562352216  and its weights are \n",
      "Weight 2 0  is  0.19567232076504543\n",
      "Weight 2 1  is  0.22516998541574726\n",
      "Weight 2 2  is  0.23126824646151287\n",
      "Value of  3 th neuron is  0.6819466972714776  and its weights are \n",
      "Weight 3 0  is  0.30237591552204035\n",
      "Weight 3 1  is  0.3071539993019246\n",
      "Weight 3 2  is  0.9199599375095338\n",
      "\n",
      "\n",
      "Details of  2 th layer\n",
      "\n",
      "Value of  0 th neuron is  0.2000000007801945  and its weights are \n",
      "Weight 0 0  is  -0.8105498787635232\n",
      "Weight 0 1  is  0.17954380038719356\n",
      "Weight 0 2  is  -0.4964098707516118\n",
      "Weight 0 3  is  -0.8945054689173894\n",
      "Value of  1 th neuron is  0.3999999996929921  and its weights are \n",
      "Weight 1 0  is  -0.10873098302733972\n",
      "Weight 1 1  is  0.05980888082637634\n",
      "Weight 1 2  is  -0.3833887636996746\n",
      "Weight 1 3  is  -0.21609564241774515\n",
      "Value of  2 th neuron is  0.600000000036307  and its weights are \n",
      "Weight 2 0  is  0.07459910300838339\n",
      "Weight 2 1  is  0.3293069995296943\n",
      "Weight 2 2  is  0.4607524423660963\n",
      "Weight 2 3  is  -0.13654288550291624\n",
      "\n",
      "\n"
     ]
    }
   ],
   "source": [
    "for i in range(it) :\n",
    "    \n",
    "    print(\"Details of \",i,\"th layer\\n\")\n",
    "    for j in range(len(answer[i][1])) :\n",
    "        print(\"Value of \",j,\"th neuron is \",network[i][1][j], \" and its weights are \") \n",
    "        for k in range(len(network[i][0][j])) :\n",
    "            print(\"Weight\",j,k,\" is \",network[i][0][j][k])\n",
    "            \n",
    "    print(\"\\n\")"
   ]
  },
  {
   "cell_type": "code",
   "execution_count": null,
   "metadata": {},
   "outputs": [],
   "source": []
  }
 ],
 "metadata": {
  "kernelspec": {
   "display_name": "Python 3",
   "language": "python",
   "name": "python3"
  },
  "language_info": {
   "codemirror_mode": {
    "name": "ipython",
    "version": 3
   },
   "file_extension": ".py",
   "mimetype": "text/x-python",
   "name": "python",
   "nbconvert_exporter": "python",
   "pygments_lexer": "ipython3",
   "version": "3.7.4"
  }
 },
 "nbformat": 4,
 "nbformat_minor": 2
}
