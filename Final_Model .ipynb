{
 "cells": [
  {
   "cell_type": "markdown",
   "metadata": {},
   "source": [
    "### Following thigns are to be done and encapsulated in this project  "
   ]
  },
  {
   "cell_type": "markdown",
   "metadata": {},
   "source": [
    "##### 1) Importing Library  \n",
    "\n",
    "##### 2) Build Class 'Model' \n",
    "\n",
    "Model class will have all the things that is my network , input , output , all components of forward propagation and all components of backward propagation \n",
    "\n",
    "##### 3) Importing Image \n",
    "So for this again I'll build a function \n",
    "\n",
    "##### 4) Building model \n",
    "\n",
    "##### 5) Output "
   ]
  },
  {
   "cell_type": "code",
   "execution_count": null,
   "metadata": {},
   "outputs": [],
   "source": []
  },
  {
   "cell_type": "markdown",
   "metadata": {},
   "source": [
    "### Importing Library  "
   ]
  },
  {
   "cell_type": "code",
   "execution_count": 1,
   "metadata": {},
   "outputs": [],
   "source": [
    "import numpy as np \n",
    "import pandas as pd "
   ]
  },
  {
   "cell_type": "code",
   "execution_count": 2,
   "metadata": {},
   "outputs": [],
   "source": [
    "import matplotlib.pyplot as plt \n",
    "%matplotlib inline "
   ]
  },
  {
   "cell_type": "code",
   "execution_count": 3,
   "metadata": {},
   "outputs": [],
   "source": [
    "import math \n",
    "from random import random "
   ]
  },
  {
   "cell_type": "code",
   "execution_count": 4,
   "metadata": {},
   "outputs": [],
   "source": [
    "from PIL import Image \n",
    "import pandas as pd "
   ]
  },
  {
   "cell_type": "code",
   "execution_count": 5,
   "metadata": {},
   "outputs": [],
   "source": [
    "import copy "
   ]
  },
  {
   "cell_type": "code",
   "execution_count": null,
   "metadata": {},
   "outputs": [],
   "source": []
  },
  {
   "cell_type": "markdown",
   "metadata": {},
   "source": [
    "### Building Class Model  "
   ]
  },
  {
   "cell_type": "code",
   "execution_count": 27,
   "metadata": {},
   "outputs": [],
   "source": [
    "class Model() :\n",
    "    network = [[1 for i in range(4)] for j in range(100000)]\n",
    "    it =  0 \n",
    "\n",
    "    def input(self,input) :\n",
    "        self.input = input \n",
    "        \n",
    "    def output(self,output) :\n",
    "        self.output = output \n",
    "        \n",
    "    def add(self,input_shape , prev_shape , activation_func) :\n",
    "            weight = [[random() for i in range(prev_shape)] for j in range(input_shape)]\n",
    "            neuron = [random() for i in range(input_shape)]\n",
    "            bias = random()\n",
    "\n",
    "            self.network[self.it][0],self.network[self.it][1],self.network[self.it][2],self.network[self.it][3] =  weight,neuron,bias,activation_func\n",
    "            self.it+=1 \n",
    "            \n",
    "    \n",
    "            \n",
    "    \n",
    "    "
   ]
  },
  {
   "cell_type": "markdown",
   "metadata": {},
   "source": [
    "### Building all components of Forward Propagation  "
   ]
  },
  {
   "cell_type": "code",
   "execution_count": 7,
   "metadata": {},
   "outputs": [],
   "source": [
    "def active_sum(input,weight,bias) :\n",
    "    activation = bias \n",
    "    for i in range(len(weight)) : \n",
    "        activation += (weight[i]*input[i]) \n",
    "        \n",
    "    return activation"
   ]
  },
  {
   "cell_type": "code",
   "execution_count": 9,
   "metadata": {},
   "outputs": [],
   "source": [
    "def sigmoid(input) :\n",
    "    return 1.0/(1.0 + np.exp(-input))"
   ]
  },
  {
   "cell_type": "code",
   "execution_count": 8,
   "metadata": {},
   "outputs": [],
   "source": [
    "def ReLU(input) :\n",
    "    if(input >0) :\n",
    "        return input \n",
    "    return (0.01*input)"
   ]
  },
  {
   "cell_type": "code",
   "execution_count": 10,
   "metadata": {},
   "outputs": [],
   "source": [
    "def Activation(sum_active,function) :\n",
    "    if(function == 'ReLU'):\n",
    "        return ReLU(sum_active)\n",
    "    if(function == 'sigmoid') :\n",
    "        return sigmoid(sum_active)"
   ]
  },
  {
   "cell_type": "code",
   "execution_count": 11,
   "metadata": {},
   "outputs": [],
   "source": [
    "def forward_prop(network,input,bias,it) :\n",
    "    #print(it)\n",
    "    my_input = input\n",
    "    my_bias = bias \n",
    "    for i in range(it-1) :  #Each hidden layer\n",
    "        for j in range(len(network[i][1])): #For each neuron \n",
    "            sum_active = active_sum(network[i][0][j],my_input,my_bias)\n",
    "            activation = Activation(sum_active,network[i][3])\n",
    "            #print(activation)           \n",
    "            network[i][1][j] = activation\n",
    "            \n",
    "        my_input = network[i][1]\n",
    "        my_bias = network[i][2]\n",
    "        \n",
    "    for j in range(len(network[it-1][1])): #For each neuron \n",
    "            sum_active = active_sum(network[it-1][0][j],my_input,my_bias)\n",
    "            activation = Activation(sum_active,network[it-1][3])      \n",
    "            network[it-1][1][j] = activation\n",
    "                       \n",
    "    return network"
   ]
  },
  {
   "cell_type": "code",
   "execution_count": null,
   "metadata": {},
   "outputs": [],
   "source": []
  },
  {
   "cell_type": "markdown",
   "metadata": {},
   "source": [
    "### Building all components of Backward Propagation  "
   ]
  },
  {
   "cell_type": "code",
   "execution_count": 12,
   "metadata": {},
   "outputs": [],
   "source": [
    "def sig_derivative(input) :\n",
    "    \n",
    "    return sigmoid(input)*(1.0  - sigmoid(input))"
   ]
  },
  {
   "cell_type": "code",
   "execution_count": 13,
   "metadata": {},
   "outputs": [],
   "source": [
    "def rel_derivative(input) :\n",
    "    if(input >0) :\n",
    "        return 1 \n",
    "    return (-0.01) "
   ]
  },
  {
   "cell_type": "code",
   "execution_count": 60,
   "metadata": {},
   "outputs": [],
   "source": [
    "def derivative(input,function) :\n",
    "    if(function == 'ReLU') :\n",
    "       ## print(\"ReLu\")\n",
    "        return rel_derivative(input)\n",
    "    if(function == 'sigmoid') :\n",
    "        #print(\"Sigmoid\")\n",
    "        return sig_derivative(input)"
   ]
  },
  {
   "cell_type": "code",
   "execution_count": 61,
   "metadata": {},
   "outputs": [],
   "source": [
    "def back_prop(network,input,output,learning_rate,bias,it) :\n",
    "    error = [[1 for i in range(1000)] for j in range(it)]\n",
    "    #For last layer \n",
    "    it-=1 \n",
    "    sum_det = 0 #For bias \n",
    "    for i in range(len(network[it][1])) : #For each neuron \n",
    "        \n",
    "        error[it][i] = output[i] - network[it][1][i]  #Error of ith output neuron\n",
    "        #print(\"error in \",it,\" layer and \",i,\"th neuron is \",error[it][i])            #Printing !!!!!!!!!!\n",
    "        delta = error[it][i]*derivative(network[it][1][i],network[it][3]) \n",
    "        sum_det += delta\n",
    "        error[it][i] = delta \n",
    "        \n",
    "        #Now adjusting all weights to this neuron \n",
    "        for j in range(len(network[it][0][i])) :\n",
    "            network[it][0][i][j] += (learning_rate*delta*network[it-1][1][j])\n",
    "            \n",
    "            \n",
    "    network[it-1][2] *= (1 + learning_rate*sum_det)\n",
    "    \n",
    "    it-=1 \n",
    "    \n",
    "    \n",
    "    ## Now doing for all layers but first \n",
    "    while(it != 0) :\n",
    "        sum_det = 0\n",
    "        for i in range(len(network[it][1])) : #For each neuron \n",
    "            \n",
    "            err = 0 #Calculating err for each neuron which is summation(error[it+1][j]*w[j][i])\n",
    "            \n",
    "            for j in range(len(network[it+1][1])) :\n",
    "                err += (error[it+1][j]*network[it+1][0][j][i])\n",
    "                \n",
    "            \n",
    "            error[it][i] = err \n",
    "            delta = error[it][i]*derivative(network[it][1][i],network[it][3]) \n",
    "            error[it][i] = delta\n",
    "            sum_det += delta\n",
    "            for j in range(len(network[it][0][i])) :\n",
    "                network[it][0][i][j] += (learning_rate*delta*network[it-1][1][j])\n",
    "            \n",
    "            \n",
    "        network[it-1][2] *= (1 + learning_rate*sum_det)\n",
    "\n",
    "        it-=1 \n",
    "        \n",
    "        \n",
    "    #Now for last layer . Here the only change will be that instead of network we'll take input and input bias \n",
    "    \n",
    "    sum_det = 0\n",
    "    for i in range(len(network[it][1])) : #For each neuron \n",
    "\n",
    "        err = 0 #Calculating err for each neuron which is summation(error[it+1][j]*w[j][i])\n",
    "\n",
    "        for j in range(len(network[it+1][1])) :\n",
    "            err += (error[it+1][j]*network[it+1][0][j][i])\n",
    "\n",
    "\n",
    "        error[it][i] = err \n",
    "        delta = error[it][i]*derivative(network[it][1][i],network[it][3])  \n",
    "        error[it][i] = delta\n",
    "        sum_det += delta\n",
    "        for j in range(len(network[it][0][i])) :\n",
    "            network[it][0][i][j] += (learning_rate*delta*input[j])\n",
    "\n",
    "\n",
    "    bias*= (1 + learning_rate*sum_det)\n",
    "    \n",
    "            \n",
    "            \n",
    "    \n",
    "    return network\n",
    "        \n",
    "    "
   ]
  },
  {
   "cell_type": "code",
   "execution_count": null,
   "metadata": {},
   "outputs": [],
   "source": []
  },
  {
   "cell_type": "markdown",
   "metadata": {},
   "source": [
    "### Writing train and predict function  "
   ]
  },
  {
   "cell_type": "code",
   "execution_count": 82,
   "metadata": {},
   "outputs": [],
   "source": [
    "def train(network,input,output,bias,learning_rate,it,epoch) :\n",
    "    leng = len(network)\n",
    "    for i in range(epoch) :\n",
    "        network = forward_prop(network,input,bias,it) \n",
    "        network = back_prop(network,input,output,learning_rate,bias,it) \n",
    "    \n",
    "    return network"
   ]
  },
  {
   "cell_type": "code",
   "execution_count": 85,
   "metadata": {},
   "outputs": [],
   "source": []
  },
  {
   "cell_type": "code",
   "execution_count": 90,
   "metadata": {},
   "outputs": [],
   "source": [
    "def predict(input,network,bias,it) :\n",
    "    dict_answer = ['J','P','G']\n",
    "    my_input = input\n",
    "    my_bias = bias \n",
    "    for i in range(it-1) :  #Each hidden layer\n",
    "        for j in range(len(network[i][1])): #For each neuron \n",
    "            sum_active = active_sum(network[i][0][j],my_input,my_bias)\n",
    "            activation = Activation(sum_active,network[i][3])      \n",
    "            network[i][1][j] = activation\n",
    "            \n",
    "        my_input = network[i][1]\n",
    "        my_bias = network[i][2]\n",
    "        \n",
    "    for j in range(len(network[it-1][1])): #For each neuron \n",
    "            sum_active = active_sum(network[it-1][0][j],my_input,my_bias)\n",
    "            activation = Activation(sum_active,network[it-1][3])         \n",
    "            network[it-1][1][j] = activation\n",
    "            \n",
    "    #return network[it-1][1]\n",
    "    \n",
    "    max = 1 \n",
    "    answer = network[it-1][1] \n",
    "    if(answer[0] > answer[1]) :\n",
    "        max = 0\n",
    "    if(answer[max] < answer[2]) :\n",
    "        max = 2 \n",
    "        \n",
    "    return dict_answer[max]\n",
    "    \n",
    "    "
   ]
  },
  {
   "cell_type": "code",
   "execution_count": null,
   "metadata": {},
   "outputs": [],
   "source": []
  },
  {
   "cell_type": "markdown",
   "metadata": {},
   "source": [
    "#### Function to take image as input ,resize to 10X10 and convert to 'L' and then return pixels  "
   ]
  },
  {
   "cell_type": "code",
   "execution_count": 18,
   "metadata": {},
   "outputs": [],
   "source": [
    "def image_input(file) :\n",
    "    img = Image.open(file).resize((10,10)).convert(\"L\")\n",
    "    pix = list(img.getdata())\n",
    "    for i in range(len(pix)) :\n",
    "        if(pix[i] < 255) :\n",
    "            pix[i]= 1 \n",
    "        else :\n",
    "            pix[i] = 0 \n",
    "            \n",
    "    return pix "
   ]
  },
  {
   "cell_type": "markdown",
   "metadata": {},
   "source": [
    "#### Taking input of my training_data  "
   ]
  },
  {
   "cell_type": "code",
   "execution_count": 19,
   "metadata": {},
   "outputs": [],
   "source": [
    "j = []\n",
    "p = []\n",
    "g = [] \n",
    "\n",
    "for i in range(5) :\n",
    "    file = \"J\" + str(i+1) + \".png\"\n",
    "    j.append(image_input(file))\n",
    "    \n",
    "for i in range(5) :\n",
    "    file = \"P\" + str(i+1) + \".png\"\n",
    "    p.append(image_input(file))\n",
    "    \n",
    "for i in range(5) :\n",
    "    file = \"G\" + str(i+1) + \".png\"\n",
    "    g.append(image_input(file))"
   ]
  },
  {
   "cell_type": "code",
   "execution_count": null,
   "metadata": {},
   "outputs": [],
   "source": []
  },
  {
   "cell_type": "markdown",
   "metadata": {},
   "source": [
    "#### Building Model"
   ]
  },
  {
   "cell_type": "code",
   "execution_count": 73,
   "metadata": {},
   "outputs": [],
   "source": [
    "model = Model()"
   ]
  },
  {
   "cell_type": "code",
   "execution_count": 74,
   "metadata": {},
   "outputs": [],
   "source": [
    "model.add(50,100,'sigmoid')\n",
    "model.add(3,50,'sigmoid')"
   ]
  },
  {
   "cell_type": "code",
   "execution_count": 75,
   "metadata": {},
   "outputs": [],
   "source": [
    "bias = 1 \n",
    "epoch = 25 \n",
    "learning_rate = 0.1"
   ]
  },
  {
   "cell_type": "code",
   "execution_count": 76,
   "metadata": {},
   "outputs": [
    {
     "data": {
      "text/plain": [
       "2"
      ]
     },
     "execution_count": 76,
     "metadata": {},
     "output_type": "execute_result"
    }
   ],
   "source": [
    "model.it"
   ]
  },
  {
   "cell_type": "code",
   "execution_count": 77,
   "metadata": {},
   "outputs": [],
   "source": [
    "for i in range(5):\n",
    "    input = j[i]\n",
    "    output = [1,0,0]\n",
    "    mean = sum(input) / len(input) \n",
    "    variance = sum([((x - mean) ** 2) for x in input]) / len(input)\n",
    "    for k in range(len(input)) :\n",
    "        input[k] = (input[k] - mean)/variance\n",
    "    model.network = train(model.network,input,output,bias,learning_rate,model.it,epoch)\n",
    "    mean = sum(input) / len(input) \n",
    "    variance = sum([((x - mean) ** 2) for x in input]) / len(input)\n",
    "    for k in range(len(input)) :\n",
    "        input[k] = (input[k] - mean)/variance\n",
    "    input = p[i]\n",
    "    output = [0,1,0]\n",
    "    mean = sum(input) / len(input) \n",
    "    variance = sum([((x - mean) ** 2) for x in input]) / len(input)\n",
    "    for k in range(len(input)) :\n",
    "        input[k] = (input[k] - mean)/variance\n",
    "    model.network = train(model.network,input,output,bias,learning_rate,model.it,epoch)\n",
    "    \n",
    "    input = g[i]\n",
    "    output = [0,0,1]\n",
    "    \n",
    "    model.network = train(model.network,input,output,bias,learning_rate,model.it,epoch)"
   ]
  },
  {
   "cell_type": "code",
   "execution_count": 78,
   "metadata": {},
   "outputs": [
    {
     "data": {
      "text/plain": [
       "[0.0032715548894102844, 0.08144352703297635, 0.9999389533338721]"
      ]
     },
     "execution_count": 78,
     "metadata": {},
     "output_type": "execute_result"
    }
   ],
   "source": [
    "model.network[model.it -1][1]"
   ]
  },
  {
   "cell_type": "code",
   "execution_count": null,
   "metadata": {},
   "outputs": [],
   "source": []
  },
  {
   "cell_type": "code",
   "execution_count": 96,
   "metadata": {},
   "outputs": [
    {
     "data": {
      "text/plain": [
       "'P'"
      ]
     },
     "execution_count": 96,
     "metadata": {},
     "output_type": "execute_result"
    }
   ],
   "source": [
    "tmp = copy.deepcopy(model.network)  \n",
    "predict(p[2],tmp,bias,model.it)\n"
   ]
  },
  {
   "cell_type": "code",
   "execution_count": null,
   "metadata": {},
   "outputs": [],
   "source": []
  },
  {
   "cell_type": "code",
   "execution_count": null,
   "metadata": {},
   "outputs": [],
   "source": []
  }
 ],
 "metadata": {
  "kernelspec": {
   "display_name": "Python 3",
   "language": "python",
   "name": "python3"
  },
  "language_info": {
   "codemirror_mode": {
    "name": "ipython",
    "version": 3
   },
   "file_extension": ".py",
   "mimetype": "text/x-python",
   "name": "python",
   "nbconvert_exporter": "python",
   "pygments_lexer": "ipython3",
   "version": "3.7.4"
  }
 },
 "nbformat": 4,
 "nbformat_minor": 2
}
